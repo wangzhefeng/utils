{
 "cells": [
  {
   "cell_type": "code",
   "execution_count": 15,
   "id": "celtic-dollar",
   "metadata": {},
   "outputs": [],
   "source": [
    "import random\n",
    "from typing import List\n",
    "\n",
    "import torch\n",
    "import torch.nn as nn\n",
    "\n",
    "from torchvision import datasets\n",
    "import torchvision.transforms as T\n",
    "import torchvision.transforms.functional as TF"
   ]
  },
  {
   "cell_type": "markdown",
   "id": "natural-finnish",
   "metadata": {},
   "source": [
    "# torchvision.transforms\n",
    "\n",
    "- torchvision.transforms.ToPILImage()\n",
    "- torchvision.transforms.PILToTensor()\n",
    "- torchvision.transforms.ToTensor()\n",
    "- torchvision.transforms.Lambda()\n",
    "- torchvision.transforms.Rotate()\n",
    "- torchvision.transforms.function.rotate()"
   ]
  },
  {
   "cell_type": "code",
   "execution_count": 16,
   "id": "patient-shower",
   "metadata": {},
   "outputs": [],
   "source": [
    "training_data = datasets.FashionMNIST(\n",
    "    root = \"~/machinelearning/datasets/pytorch_data/\",\n",
    "    train = True,\n",
    "    download = False,\n",
    "    transform = T.ToTensor(),\n",
    "    target_transform = T.Lambda(lambda y: torch.zeros(10, dtype = torch.float).scatter_(0, torch.tensor(y), value = 1))\n",
    ")\n",
    "test_data = datasets.FashionMNIST(\n",
    "    root = \"~/machinelearning/datasets/pytorch_data/\",\n",
    "    train = False,\n",
    "    download = False,\n",
    "    transform = T.ToTensor(),\n",
    "    target_transform = T.Lambda(lambda y: torch.zeros(10, dtype = torch.float).scatter_(0, torch.tensor(y), value = 1))\n",
    ")"
   ]
  },
  {
   "cell_type": "markdown",
   "id": "hindu-license",
   "metadata": {},
   "source": [
    "# functional transforms"
   ]
  },
  {
   "cell_type": "code",
   "execution_count": 17,
   "id": "strong-healing",
   "metadata": {},
   "outputs": [],
   "source": [
    "def segmentation_transforms(image, segmentation):\n",
    "    if random.random() > 0.5:\n",
    "        angle = random.randint(-30, 30)\n",
    "        image = TF.rotate(image, angle)\n",
    "        segmentation = TF.rotate(segmentation, angle)\n",
    "    return image, segmentation"
   ]
  },
  {
   "cell_type": "code",
   "execution_count": 18,
   "id": "secret-greek",
   "metadata": {},
   "outputs": [],
   "source": [
    "class RotationTransform:\n",
    "    \"\"\"\n",
    "    Rotate by one of the given angles\n",
    "    \"\"\"\n",
    "    def __init__(self, angles: List[float]):\n",
    "        self.angles = angles\n",
    "    \n",
    "    def __call__(self, x):\n",
    "        angle = random.choice(self.angles)\n",
    "        transformed_x = TF.rotate(x, angle)\n",
    "        return transformed_x\n",
    "\n",
    "rotation_transform = RotationTransform(\n",
    "    angles = [-30, -15, 0, 15, 30]\n",
    ")"
   ]
  },
  {
   "cell_type": "markdown",
   "id": "pharmaceutical-prophet",
   "metadata": {},
   "source": [
    "# Scriptable transforms\n",
    "\n",
    "- torch.nn.Sequential\n",
    "- torch.jit.script"
   ]
  },
  {
   "cell_type": "code",
   "execution_count": 19,
   "id": "matched-motion",
   "metadata": {},
   "outputs": [],
   "source": [
    "transforms = nn.Sequential(\n",
    "    T.CenterCrop(10),\n",
    "    T.Normalize((0.485, 0.456, 0.406), (0.229, 0.224, 0.225)),\n",
    ")\n",
    "scripted_transforms = torch.jit.script(transforms)"
   ]
  },
  {
   "cell_type": "markdown",
   "id": "demanding-machinery",
   "metadata": {},
   "source": [
    "# Compositions of transforms\n",
    "\n",
    "- torchvision.transform.Compose"
   ]
  },
  {
   "cell_type": "code",
   "execution_count": 22,
   "id": "intimate-spending",
   "metadata": {},
   "outputs": [],
   "source": [
    "transforms = T.Compose([\n",
    "    T.CenterCrop(10),\n",
    "    T.PILToTensor(),\n",
    "    T.ConvertImageDtype(torch.float),\n",
    "])"
   ]
  },
  {
   "cell_type": "markdown",
   "id": "sharing-trailer",
   "metadata": {},
   "source": [
    "# Conversion Transforms"
   ]
  },
  {
   "cell_type": "markdown",
   "id": "communist-smell",
   "metadata": {},
   "source": [
    "- ToPILImage\n",
    "- ToTensor\n",
    "- PILToTensor"
   ]
  },
  {
   "cell_type": "markdown",
   "id": "narrow-aging",
   "metadata": {},
   "source": [
    "## Generic Transforms"
   ]
  },
  {
   "cell_type": "markdown",
   "id": "defined-viewer",
   "metadata": {},
   "source": [
    "- Lambda"
   ]
  },
  {
   "cell_type": "code",
   "execution_count": null,
   "id": "breeding-consolidation",
   "metadata": {},
   "outputs": [],
   "source": []
  }
 ],
 "metadata": {
  "kernelspec": {
   "display_name": "pytorch",
   "language": "python",
   "name": "python3"
  },
  "language_info": {
   "codemirror_mode": {
    "name": "ipython",
    "version": 3
   },
   "file_extension": ".py",
   "mimetype": "text/x-python",
   "name": "python",
   "nbconvert_exporter": "python",
   "pygments_lexer": "ipython3",
   "version": "3.7.10 (default, Mar  6 2021, 16:49:05) \n[Clang 12.0.0 (clang-1200.0.32.29)]"
  },
  "vscode": {
   "interpreter": {
    "hash": "4b1b1fe44047e5240378d701df40aa149094e7eee15f7b3336589fd4ae32ec78"
   }
  }
 },
 "nbformat": 4,
 "nbformat_minor": 5
}
